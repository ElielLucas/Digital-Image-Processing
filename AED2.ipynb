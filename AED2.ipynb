{
  "nbformat": 4,
  "nbformat_minor": 0,
  "metadata": {
    "colab": {
      "provenance": [],
      "authorship_tag": "ABX9TyMMbVqFEa9g4CQ2TAysgTER",
      "include_colab_link": true
    },
    "kernelspec": {
      "name": "python3",
      "display_name": "Python 3"
    },
    "language_info": {
      "name": "python"
    }
  },
  "cells": [
    {
      "cell_type": "markdown",
      "metadata": {
        "id": "view-in-github",
        "colab_type": "text"
      },
      "source": [
        "<a href=\"https://colab.research.google.com/github/ElielLucas/Digital-Image-Processing/blob/main/AED2.ipynb\" target=\"_parent\"><img src=\"https://colab.research.google.com/assets/colab-badge.svg\" alt=\"Open In Colab\"/></a>"
      ]
    },
    {
      "cell_type": "code",
      "execution_count": null,
      "metadata": {
        "id": "R9DzaO_Wrhu0",
        "colab": {
          "base_uri": "https://localhost:8080/"
        },
        "outputId": "cdf30662-df25-4005-db1b-5ae22952a4fa"
      },
      "outputs": [
        {
          "output_type": "stream",
          "name": "stderr",
          "text": [
            "/usr/local/lib/python3.7/dist-packages/ipykernel_launcher.py:6: UserWarning: Viewer requires Qt\n",
            "  \n"
          ]
        }
      ],
      "source": [
        "import numpy as np\n",
        "from PIL import Image, ImageFont, ImageDraw, ImageFilter\n",
        "from PIL.ImageChops import add, subtract, multiply, difference, screen\n",
        "import PIL.ImageStat as stat\n",
        "from skimage.io import imread, imsave, imshow, show, imread_collection, imshow_collection\n",
        "from skimage import color, viewer, exposure, img_as_float, data\n",
        "from skimage.transform import SimilarityTransform, warp, swirl\n",
        "from skimage.util import invert, random_noise, montage\n",
        "import matplotlib.image as mpimage\n",
        "import matplotlib.pylab as plt\n",
        "from scipy.ndimage import affine_transform, zoom\n",
        "from scipy import misc\n",
        "import cv2\n",
        "from mpl_toolkits.mplot3d import Axes3D\n",
        "from matplotlib import cm\n",
        "from matplotlib import colors\n",
        "import os\n",
        "from natsort import natsorted\n",
        "from matplotlib import pyplot as plt"
      ]
    },
    {
      "cell_type": "code",
      "source": [
        "def extrair_frames(dir):\n",
        "  vidcap = cv2.VideoCapture(dir)\n",
        "  count = 0\n",
        "\n",
        "  success,image = vidcap.read()\n",
        "  while vidcap.isOpened() and success:\n",
        "    cv2.imwrite(\"frames/frame%d.jpg\" % count, image)\n",
        "    count += 1\n",
        "    success,image = vidcap.read()\n",
        "\n",
        "  vidcap.release()\n",
        "  cv2.destroyAllWindows()"
      ],
      "metadata": {
        "id": "mr018pYtshF6"
      },
      "execution_count": null,
      "outputs": []
    },
    {
      "cell_type": "code",
      "source": [
        "def convert_frames_to_video():\n",
        "  pasta = os.listdir('/content/mascara')\n",
        "  pasta = natsorted(pasta)\n",
        "\n",
        "  list_frames = []\n",
        "  for frame in pasta:\n",
        "      img = cv2.imread('/content/mascara/'+ frame)\n",
        "      height, width, layers = img.shape\n",
        "      size = (width,height)\n",
        "      list_frames.append(img)\n",
        "\n",
        "  out = cv2.VideoWriter('video_adubo_alterado.mp4',cv2.VideoWriter_fourcc(*'DIVX'), 15, size)\n",
        "\n",
        "  for i in range(len(list_frames)):\n",
        "    out.write(list_frames[i])\n",
        "  out.release()"
      ],
      "metadata": {
        "id": "YXi9dE3ZxYQQ"
      },
      "execution_count": null,
      "outputs": []
    },
    {
      "cell_type": "code",
      "source": [
        "def list_frames():\n",
        "  pasta = os.listdir('/content/frames')\n",
        "  pasta = natsorted(pasta)\n",
        "\n",
        "  list_frames = []\n",
        "  for frame in pasta:\n",
        "    list_frames.append(cv2.imread('/content/frames/' + frame))\n",
        "  return list_frames"
      ],
      "metadata": {
        "id": "iFpNcIM8tHIx"
      },
      "execution_count": null,
      "outputs": []
    },
    {
      "cell_type": "code",
      "source": [
        "def list_col(image, col, N):\n",
        "  output = []\n",
        "  for i in range(0, N):\n",
        "      output.append(image[i][col])\n",
        "\n",
        "  return output"
      ],
      "metadata": {
        "id": "ttC80oZlypvD"
      },
      "execution_count": null,
      "outputs": []
    },
    {
      "cell_type": "code",
      "source": [
        "# extrair_frames('video_adubo.mp4')\n",
        "list_frm = []\n",
        "qnt_frames = len(list_frm)\n",
        "count = 0\n",
        "\n",
        "list_frm.append(cv2.imread('ruidosalpimenta.png'))\n",
        "for frame in range(0, 1):\n",
        "    im1 = list_frm[frame]\n",
        "    N, M, _ = im1.shape\n",
        "\n",
        "    # Converte a imagem para a escala de cinza\n",
        "    R, G, B = im1[:,:,0], im1[:,:,1], im1[:,:,2]\n",
        "    im1_gray = 0.2989 * R + 0.5870 * G + 0.1140 * B\n",
        "\n",
        "    # Calcula e plota o histograma da imagem original\n",
        "    x = cv2.calcHist([im1], [0], None, [256], [0, 256])\n",
        "    plt.plot(x, color='b')\n",
        "    plt.title('Histograma da imagem não equalizada')\n",
        "    plt.show()\n",
        "\n",
        "    # Equaliza o histograma da imagem original\n",
        "    img_yuv1 = cv2.cvtColor(im1, cv2.COLOR_BGR2YUV)\n",
        "    img_yuv1[:,:,0] = cv2.equalizeHist(img_yuv1[:,:,0])\n",
        "    hist_equalization = cv2.cvtColor(img_yuv1, cv2.COLOR_YUV2BGR)\n",
        "\n",
        "    # Calcula e plota o histograma da imagem equalizada pela primeira vez\n",
        "    x = cv2.calcHist([hist_equalization], [0], None, [256], [0, 256])\n",
        "    plt.plot(x, color='b')\n",
        "    plt.title('Histograma após a primeira equalização')\n",
        "    plt.show()\n",
        "\n",
        "    # Equaliza o histograma pela segunda vez, sobre a imagem que\n",
        "    # já recebeu a equalização\n",
        "    img_yuv1 = cv2.cvtColor(hist_equalization, cv2.COLOR_BGR2YUV)\n",
        "    img_yuv1[:,:,0] = cv2.equalizeHist(img_yuv1[:,:,0])\n",
        "    hist_equalization = cv2.cvtColor(img_yuv1, cv2.COLOR_YUV2BGR)\n",
        "\n",
        "    # Calcula e plota o histograma da imagem equalizada pela segunda vez\n",
        "    x = cv2.calcHist([hist_equalization], [0], None, [256], [0, 256])\n",
        "    plt.plot(x, color='b')\n",
        "    plt.title('Histograma após a segunda equalização')\n",
        "    plt.show()\n",
        "\n",
        "\n",
        "    img_yuv2 = cv2.cvtColor(im2, cv2.COLOR_BGR2YUV)\n",
        "    img_yuv2[:,:,0] = cv2.equalizeHist(img_yuv2[:,:,0])\n",
        "\n",
        "    R, G, B = img_yuv1[:,:,0], img_yuv1[:,:,1], img_yuv1[:,:,2]\n",
        "    im1_gray = 0.2989 * R + 0.5870 * G + 0.1140 * B\n",
        "    R, G, B = img_yuv2[:,:,0], img_yuv2[:,:,1], img_yuv2[:,:,2]\n",
        "    im2_gray = 0.2989 * R + 0.5870 * G + 0.1140 * B\n",
        "\n",
        "    aux = 1/9 * np.ones((3, 3))\n",
        "    mascara = np.zeros((N, M), dtype='uint8')\n",
        "    for i in range(1, N - 1):\n",
        "        for j in range(1, M - 1):\n",
        "          temp = [im1_gray[i-1][j-1:j+2], im1_gray[i][j-1:j+2], im1_gray[i+1][j-1:j+2]]*aux\n",
        "          media = sum(temp.reshape(9,1)) - 0.4\n",
        "          if (im1_gray[i][j] < media):\n",
        "              mascara[i][j] = 1\n",
        "\n",
        "    mascara2 = np.zeros((N, M), dtype='uint8')\n",
        "    for j in range(M):\n",
        "        val_rows = list_col(mascara, j, N)\n",
        "        median = np.median(val_rows)\n",
        "        if median:\n",
        "          for i in range(N):\n",
        "            mascara2[i][j] = median\n",
        "\n",
        "    mascara3 = im1.copy()\n",
        "    for i in range(N):\n",
        "      for j in range(M):\n",
        "        mascara3[i][j] = hist_equalization[i][j]*mascara[i][j]\n",
        "\n",
        "    cv2.imwrite('mascara/frame%d.jpg' %count, mascara3)\n",
        "    count += 1\n",
        "\n",
        "convert_frames_to_video()"
      ],
      "metadata": {
        "id": "f6zCmYY3OKUd",
        "colab": {
          "base_uri": "https://localhost:8080/",
          "height": 809
        },
        "outputId": "c8125390-f5b7-45d4-bdc7-665e9d02966f"
      },
      "execution_count": null,
      "outputs": [
        {
          "output_type": "display_data",
          "data": {
            "text/plain": [
              "<Figure size 432x288 with 1 Axes>"
            ],
            "image/png": "[encoded data removed]"
          },
          "metadata": {
            "needs_background": "light"
          }
        },
        {
          "output_type": "display_data",
          "data": {
            "text/plain": [
              "<Figure size 432x288 with 1 Axes>"
            ],
            "image/png": "[encoded data removed]"
          },
          "metadata": {
            "needs_background": "light"
          }
        },
        {
          "output_type": "display_data",
          "data": {
            "text/plain": [
              "<Figure size 432x288 with 1 Axes>"
            ],
            "image/png": "[encoded data removed]"
          },
          "metadata": {
            "needs_background": "light"
          }
        }
      ]
    },
    {
      "cell_type": "code",
      "source": [
        "convert_frames_to_video()"
      ],
      "metadata": {
        "id": "Pgsf8o7PNpqq"
      },
      "execution_count": null,
      "outputs": []
    }
  ]
}