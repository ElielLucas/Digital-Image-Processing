{
  "nbformat": 4,
  "nbformat_minor": 0,
  "metadata": {
    "colab": {
      "provenance": [],
      "include_colab_link": true
    },
    "kernelspec": {
      "name": "python3",
      "display_name": "Python 3"
    },
    "language_info": {
      "name": "python"
    }
  },
  "cells": [
    {
      "cell_type": "markdown",
      "metadata": {
        "id": "view-in-github",
        "colab_type": "text"
      },
      "source": [
        "<a href=\"https://colab.research.google.com/github/ElielLucas/Digital-Image-Processing/blob/main/AED3.ipynb\" target=\"_parent\"><img src=\"https://colab.research.google.com/assets/colab-badge.svg\" alt=\"Open In Colab\"/></a>"
      ]
    },
    {
      "cell_type": "code",
      "execution_count": null,
      "metadata": {
        "id": "R9DzaO_Wrhu0",
        "colab": {
          "base_uri": "https://localhost:8080/"
        },
        "outputId": "c4e5fcab-e358-4980-d17b-9ee2a95ae639"
      },
      "outputs": [
        {
          "output_type": "stream",
          "name": "stderr",
          "text": [
            "/usr/local/lib/python3.7/dist-packages/ipykernel_launcher.py:6: UserWarning: Viewer requires Qt\n",
            "  \n"
          ]
        }
      ],
      "source": [
        "import numpy as np\n",
        "from PIL import Image, ImageFont, ImageDraw, ImageFilter\n",
        "from PIL.ImageChops import add, subtract, multiply, difference, screen\n",
        "import PIL.ImageStat as stat\n",
        "from skimage.io import imread, imsave, imshow, show, imread_collection, imshow_collection\n",
        "from skimage import color, viewer, exposure, img_as_float, data\n",
        "from skimage.transform import SimilarityTransform, warp, swirl\n",
        "from skimage.util import invert, random_noise, montage\n",
        "import matplotlib.image as mpimage\n",
        "import matplotlib.pylab as plt\n",
        "from scipy.ndimage import affine_transform, zoom\n",
        "from scipy import misc\n",
        "import cv2\n",
        "from mpl_toolkits.mplot3d import Axes3D\n",
        "from matplotlib import cm\n",
        "from matplotlib import colors\n",
        "import os\n",
        "from natsort import natsorted\n",
        "import skimage\n",
        "import time"
      ]
    },
    {
      "cell_type": "code",
      "source": [
        "def extrair_frames(dir):\n",
        "  vidcap = cv2.VideoCapture(dir)\n",
        "  count = 0\n",
        "\n",
        "  success,image = vidcap.read()\n",
        "  while vidcap.isOpened() and success:\n",
        "    cv2.imwrite(\"frames/frame%d.jpg\" % count, image)\n",
        "    count += 1\n",
        "    success,image = vidcap.read()\n",
        "\n",
        "  vidcap.release()\n",
        "  cv2.destroyAllWindows()"
      ],
      "metadata": {
        "id": "mr018pYtshF6"
      },
      "execution_count": null,
      "outputs": []
    },
    {
      "cell_type": "code",
      "source": [
        "def list_frames(dir):\n",
        "  pasta = os.listdir(dir)\n",
        "  pasta = natsorted(pasta)\n",
        "\n",
        "  list_frames = []\n",
        "  for frame in pasta:\n",
        "    list_frames.append(cv2.imread(dir + frame))\n",
        "  return list_frames"
      ],
      "metadata": {
        "id": "iFpNcIM8tHIx"
      },
      "execution_count": null,
      "outputs": []
    },
    {
      "cell_type": "code",
      "source": [
        "def list_col(image, col, N):\n",
        "  output = []\n",
        "  for i in range(0, N):\n",
        "      output.append(image[i][col])\n",
        "\n",
        "  return output"
      ],
      "metadata": {
        "id": "ttC80oZlypvD"
      },
      "execution_count": null,
      "outputs": []
    },
    {
      "cell_type": "code",
      "source": [
        "def contabilizar_pixels_imagem_anexo(frame):\n",
        "    # resize frame\n",
        "    dim = (720, 1280)\n",
        "    frame = cv2.resize(frame, dim, interpolation = cv2.INTER_AREA)\n",
        "\n",
        "    N, M, _ = frame.shape\n",
        "\n",
        "    output = 0\n",
        "    for i in range(N):\n",
        "        for j in range(M):\n",
        "            if (frame[i, j, 0] == 255):\n",
        "                output += 1\n",
        "    return output"
      ],
      "metadata": {
        "id": "cnhvV7BmFjEU"
      },
      "execution_count": null,
      "outputs": []
    },
    {
      "cell_type": "code",
      "source": [
        "def get_frames_validos():\n",
        "    # Lista com todos frames de máscara do vídeo\n",
        "    mascara_frm = list_frames('/content/mascara/')\n",
        "\n",
        "    lista_de_frames_validos = []\n",
        "    it = 1\n",
        "    # Itera sobre os frames da mascara e a cada 20 frames captura 1 válido\n",
        "    for i in range(len(mascara_frm)):\n",
        "        if it == 20:\n",
        "           lista_de_frames_validos.append(mascara_frm[i])\n",
        "           it = 0\n",
        "        it += 1\n",
        "    return lista_de_frames_validos"
      ],
      "metadata": {
        "id": "0HybJyhAKHXc"
      },
      "execution_count": null,
      "outputs": []
    },
    {
      "cell_type": "code",
      "source": [
        "def get_quantidade_adubo_video(mascara_adubo_anexo):\n",
        "    # Conto quantos pixels brancos a imagem deixada em anexo, pelo monitor, tem.\n",
        "    qtd_pixels_frame_anexo = contabilizar_pixels_imagem_anexo(mascara_adubo_anexo)\n",
        "    print('Quantidade de pixels do frame em anexo: ', qtd_pixels_frame_anexo)\n",
        "    adubo_total = 0\n",
        "    # Itero por cada máscara do vídeo e estimo para cada um qual o seu volume de adubo, por meio de uma regra de 3.\n",
        "    for i in range(len(lista_frames_validos)):\n",
        "        # Conto quantos pixels a máscara atual tem\n",
        "        qtd_pixels_frame_at = contabilizar_pixels_imagem_anexo(lista_frames_validos[i])\n",
        "        # Faço uma regra de 3....Se X pixels de adubo da imagem em anexo equivalem a 1.38kg, então Y pixels de adubo da máscara equivalem a quanto?\n",
        "        adubo_frame_at = (qtd_pixels_frame_at*1.38) / qtd_pixels_frame_anexo\n",
        "        adubo_total += adubo_frame_at\n",
        "        print('Frame válido: ', i + 1)\n",
        "        print(f'Quantidade de pixels do frame: {qtd_pixels_frame_at}')\n",
        "        print(f'Quantidade de adubo do frame: {adubo_frame_at}')\n",
        "\n",
        "    return adubo_total"
      ],
      "metadata": {
        "id": "xTCt00hUkmGc"
      },
      "execution_count": null,
      "outputs": []
    },
    {
      "cell_type": "code",
      "source": [
        "def segmentar_frame_anexado():\n",
        "    mn, mx = np.array([1, 50, 100]), np.array([14, 255, 215])\n",
        "    mn2, mx2 = np.array([100, 40, 1]), np.array([175, 225, 75])\n",
        "    im = cv2.imread(\"/content/adubo_kg.png\")\n",
        "\n",
        "    N, M, _ = im.shape\n",
        "    img_yuv1 = cv2.cvtColor(im, cv2.COLOR_BGR2YUV)\n",
        "    img_yuv1[:,:,0] = cv2.equalizeHist(img_yuv1[:,:,0])\n",
        "    bilateral = cv2.bilateralFilter(img_yuv1,d=5,sigmaColor=5,sigmaSpace=35)\n",
        "\n",
        "    im2 = cv2.cvtColor(im, cv2.COLOR_BGR2RGB)\n",
        "    im2 = cv2.GaussianBlur(im2,(7,7),cv2.BORDER_DEFAULT)\n",
        "    t_lower = 20\n",
        "    t_upper = 160\n",
        "    edge = cv2.Canny(im2, t_lower, t_upper)\n",
        "\n",
        "    mask1 = cv2.inRange(bilateral, mn, mx)\n",
        "    mask2 = cv2.inRange(bilateral, mn2, mx2)\n",
        "    mask = mask1 + mask2\n",
        "    mask = edge + mask\n",
        "\n",
        "    mask_dil = cv2.dilate(mask, np.ones((3, 3), dtype='uint8'), iterations=8)\n",
        "    mask_ero = cv2.erode(mask_dil, np.ones((7, 7), dtype='uint8'), iterations=4)\n",
        "    mask_dil = cv2.dilate(mask_ero, np.ones((3, 3), dtype='uint8'), iterations=11)\n",
        "\n",
        "    for j in range(M):\n",
        "      if j <= 110 or j >= 550:\n",
        "        for i in range(N):\n",
        "            mask_dil[i, j] = 0\n",
        "\n",
        "    imshow(mask_dil), show()\n",
        "    final_mask = cv2.cvtColor(mask_dil, cv2.COLOR_GRAY2BGR)\n",
        "\n",
        "    return final_mask"
      ],
      "metadata": {
        "id": "C3Mnvusc6raN"
      },
      "execution_count": null,
      "outputs": []
    },
    {
      "cell_type": "code",
      "source": [
        "extrair_frames('video_adubo.mp4')\n",
        "list_frm = []\n",
        "list_frm = list_frames('/content/frames/')\n",
        "qnt_frames = len(list_frm)\n",
        "count = 0\n",
        "for frame in range(0, qnt_frames - 1):\n",
        "    im1 = list_frm[frame]\n",
        "    im2 = list_frm[frame + 1]\n",
        "\n",
        "    N, M, _ = im1.shape\n",
        "    img_yuv1 = cv2.cvtColor(im1, cv2.COLOR_BGR2YUV)\n",
        "    img_yuv1[:,:,0] = cv2.equalizeHist(img_yuv1[:,:,0])\n",
        "\n",
        "    img_yuv2 = cv2.cvtColor(im2, cv2.COLOR_BGR2YUV)\n",
        "    img_yuv2[:,:,0] = cv2.equalizeHist(img_yuv2[:,:,0])\n",
        "\n",
        "    R, G, B = img_yuv1[:,:,0], img_yuv1[:,:,1], img_yuv1[:,:,2]\n",
        "    im1_gray = 0.2989 * R + 0.5870 * G + 0.1140 * B\n",
        "    R, G, B = img_yuv2[:,:,0], img_yuv2[:,:,1], img_yuv2[:,:,2]\n",
        "    im2_gray = 0.2989 * R + 0.5870 * G + 0.1140 * B\n",
        "\n",
        "    mascara = np.zeros((N, M, 3), dtype='uint8')\n",
        "    for i in range(N):\n",
        "        for j in range(M):\n",
        "          dif = abs(int(im1_gray[i][j]) - int(im2_gray[i][j]))\n",
        "          if (dif > 0.04 * int(im1_gray[i][j])):\n",
        "              mascara[i, j, :] = 255\n",
        "\n",
        "    mascara2 = np.zeros((N, M, 3), dtype='uint8')\n",
        "    for j in range(M):\n",
        "        val_rows = list_col(mascara, j, N)\n",
        "        median = np.median(val_rows)\n",
        "        if median:\n",
        "          for i in range(N):\n",
        "            mascara2[i, j, :] = median\n",
        "\n",
        "    cv2.imwrite('mascara/frame%d.jpg' %count, mascara2)\n",
        "    count += 1\n",
        "\n",
        "\n",
        "lista_frames_validos = get_frames_validos()\n",
        "anexo_segmentado = segmentar_frame_anexado()\n",
        "adubo_total = get_quantidade_adubo_video(anexo_segmentado)\n",
        "print(\"\\n\\n\")\n",
        "print(f'Quantidade total de adubo no vídeo: {adubo_total} kg')\n"
      ],
      "metadata": {
        "id": "f6zCmYY3OKUd"
      },
      "execution_count": null,
      "outputs": []
    }
  ]
}