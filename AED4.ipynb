{
  "cells": [
    {
      "cell_type": "markdown",
      "metadata": {
        "id": "view-in-github",
        "colab_type": "text"
      },
      "source": [
        "<a href=\"https://colab.research.google.com/github/ElielLucas/Digital-Image-Processing/blob/main/AED4.ipynb\" target=\"_parent\"><img src=\"https://colab.research.google.com/assets/colab-badge.svg\" alt=\"Open In Colab\"/></a>"
      ]
    },
    {
      "cell_type": "code",
      "execution_count": null,
      "metadata": {
        "id": "VX7oxd-u_sv6",
        "outputId": "6351431e-ceac-4770-f21e-69d024659046",
        "colab": {
          "base_uri": "https://localhost:8080/"
        }
      },
      "outputs": [
        {
          "output_type": "stream",
          "name": "stderr",
          "text": [
            "<ipython-input-1-3ca2bbe4cc19>:6: UserWarning: Viewer requires Qt\n",
            "  from skimage import color, viewer, exposure, img_as_float, data\n"
          ]
        }
      ],
      "source": [
        "import numpy as np\n",
        "from PIL import Image, ImageFont, ImageDraw, ImageFilter\n",
        "from PIL.ImageChops import add, subtract, multiply, difference, screen\n",
        "import PIL.ImageStat as stat\n",
        "from skimage.io import imread, imsave, imshow, show, imread_collection, imshow_collection\n",
        "from skimage import color, viewer, exposure, img_as_float, data\n",
        "from skimage.transform import SimilarityTransform, warp, swirl\n",
        "from skimage.util import invert, random_noise, montage\n",
        "import matplotlib.image as mpimage\n",
        "import matplotlib.pylab as plt\n",
        "from scipy.ndimage import affine_transform, zoom\n",
        "from scipy import misc\n",
        "import cv2\n",
        "from mpl_toolkits.mplot3d import Axes3D\n",
        "from matplotlib import cm\n",
        "from matplotlib import colors\n",
        "import os\n",
        "from natsort import natsorted\n",
        "import skimage\n",
        "import time"
      ]
    },
    {
      "cell_type": "code",
      "execution_count": null,
      "metadata": {
        "colab": {
          "base_uri": "https://localhost:8080/",
          "height": 314
        },
        "id": "BlVUuEBBB-Yq",
        "outputId": "b13c4058-749b-4d2a-be87-c5dfac6d0406"
      },
      "outputs": [
        {
          "output_type": "display_data",
          "data": {
            "text/plain": [
              "<Figure size 432x288 with 1 Axes>"
            ],
            "image/png": "[encoded data removed]"
          },
          "metadata": {
            "needs_background": "light"
          }
        },
        {
          "output_type": "execute_result",
          "data": {
            "text/plain": [
              "(<matplotlib.image.AxesImage at 0x7fb3a3ffb5e0>, None)"
            ]
          },
          "metadata": {},
          "execution_count": 2
        }
      ],
      "source": [
        "im = cv2.imread(\"/content/lena_gray.bmp\")\n",
        "N, M, _ = im.shape\n",
        "\n",
        "# Converter imagem para o formato de cor LAB\n",
        "imagem_LAB= cv2.cvtColor(im, cv2.COLOR_BGR2LAB)\n",
        "CANAL_L, CANAL_A, CANAL_B = cv2.split(imagem_LAB)\n",
        "# Altera o contraste da imagem\n",
        "clahe = cv2.createCLAHE(clipLimit=1.0, tileGridSize=(2,2))\n",
        "imagem_LAB_clahe = clahe.apply(CANAL_L)\n",
        "aux = cv2.merge((imagem_LAB_clahe,CANAL_A,CANAL_B))\n",
        "imagem_contraste_melhorado = cv2.cvtColor(aux, cv2.COLOR_LAB2BGR)\n",
        "\n",
        "# Converter imagem para o formato de cor GRAY\n",
        "gray_img=cv2.cvtColor(imagem_contraste_melhorado,cv2.COLOR_BGR2GRAY)\n",
        "# Realiza a equalização de histograma na imagem\n",
        "equa_histograma = cv2.equalizeHist(gray_img[:,:])\n",
        "\n",
        "# Cria 4 matrizes que serão um quadrante, cada, da imagem original\n",
        "q1 = np.zeros((int(N/2), int(M/2)), dtype='uint8')\n",
        "q2 = np.zeros((int(N/2), int(M/2)), dtype='uint8')\n",
        "q3 = np.zeros((int(N/2), int(M/2)), dtype='uint8')\n",
        "q4 = np.zeros((int(N/2), int(M/2)), dtype='uint8')\n",
        "\n",
        "for i in range(N):\n",
        "  for j in range(M):\n",
        "      if i < int(N/2) and j < int(M/2):\n",
        "          q1[i%int(N/2), j%int(M/2)] = equa_histograma[i, j]\n",
        "      elif i >= int(N/2) and j < int(M/2):\n",
        "          q2[i%int(N/2), j%int(M/2)] = equa_histograma[i, j]\n",
        "      elif i < int(N/2) and j >= int(M/2):\n",
        "          q3[i%int(N/2), j%int(M/2)] = equa_histograma[i, j]\n",
        "      elif i >= int(N/2) and j >= int(M/2):\n",
        "          q4[i%int(N/2), j%int(M/2)] = equa_histograma[i, j]\n",
        "\n",
        "_, otsu1 = cv2.threshold(q1, 80, 255, cv2.THRESH_BINARY + cv2.THRESH_OTSU)\n",
        "_, otsu2 = cv2.threshold(q2, 80, 255, cv2.THRESH_BINARY + cv2.THRESH_OTSU)\n",
        "_, otsu3 = cv2.threshold(q3, 80, 255, cv2.THRESH_BINARY + cv2.THRESH_OTSU)\n",
        "_, otsu4 = cv2.threshold(q4, 80, 255, cv2.THRESH_BINARY + cv2.THRESH_OTSU)\n",
        "\n",
        "output = np.zeros((N, M), dtype='uint8')\n",
        "for i in range(N):\n",
        "    for j in range(M):\n",
        "        if i < int(N/2) and j < int(M/2):\n",
        "          output[i, j] = otsu1[i%int(N/2), j%int(M/2)]\n",
        "        elif i >= int(N/2) and j < int(M/2):\n",
        "          output[i, j] = otsu2[i%int(N/2), j%int(M/2)]\n",
        "        elif i < int(N/2) and j >= int(M/2):\n",
        "          output[i, j] = otsu3[i%int(N/2), j%int(M/2)]\n",
        "        elif i >= int(N/2) and j >= int(M/2):\n",
        "          output[i, j] = otsu4[i%int(N/2), j%int(M/2)]\n",
        "\n",
        "\n",
        "imshow(output), show()\n",
        "\n"
      ]
    }
  ],
  "metadata": {
    "colab": {
      "provenance": [],
      "authorship_tag": "ABX9TyMn+o8RSryNAnsj/iIWHkl7",
      "include_colab_link": true
    },
    "kernelspec": {
      "display_name": "Python 3",
      "name": "python3"
    },
    "language_info": {
      "name": "python"
    }
  },
  "nbformat": 4,
  "nbformat_minor": 0
}